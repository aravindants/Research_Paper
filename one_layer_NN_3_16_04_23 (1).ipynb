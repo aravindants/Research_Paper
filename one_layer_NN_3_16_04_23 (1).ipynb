{
 "cells": [
  {
   "cell_type": "code",
   "execution_count": 1,
   "id": "1520dd2e",
   "metadata": {},
   "outputs": [],
   "source": [
    "import numpy as np\n",
    "import math\n",
    "import matplotlib.pyplot as plt\n",
    "from sklearn.model_selection import train_test_split\n",
    "from sklearn import metrics\n",
    "\n",
    "%matplotlib inline\n",
    "np.random.seed(1)"
   ]
  },
  {
   "cell_type": "code",
   "execution_count": 2,
   "id": "97447af8",
   "metadata": {},
   "outputs": [],
   "source": [
    "# #Take 100 examples with 2 features i.e. n[0] = 2    \n",
    "# import nnfs\n",
    "# from nnfs.datasets import spiral_data\n",
    "\n",
    "# # Generating data set\n",
    "# X, y = spiral_data(5000,2)   # 100 is the no of data point in each category and 3 is the no of category\n",
    "# plt.scatter(X[:,0], X[:,1], c = y, cmap = \"brg\")\n",
    "# plt.show()"
   ]
  },
  {
   "cell_type": "code",
   "execution_count": 3,
   "id": "7a015577",
   "metadata": {},
   "outputs": [],
   "source": [
    "# # data set 2\n",
    "# dataset = np.loadtxt(r'C:\\Users\\msi 1\\Downloads\\heart_1.csv', delimiter=',',skiprows = 1)\n",
    "# #print(dataset.shape)  \n",
    "\n",
    "# X = dataset[:, :-1]\n",
    "# y = dataset[:,-1]\n",
    "# y = y.reshape(y.shape[0],1)"
   ]
  },
  {
   "cell_type": "code",
   "execution_count": 4,
   "id": "539d9b09",
   "metadata": {},
   "outputs": [],
   "source": [
    "# # data set 3\n",
    "# dataset = np.loadtxt(r'C:\\Users\\re824\\Desktop\\winequality-red.csv', delimiter=',',skiprows = 1)\n",
    "# #print(dataset.shape)\n",
    "# dataset[dataset[:,-1] < 5.5, -1] = 0\n",
    "# dataset[dataset[:,-1] >= 5.5, -1] = 1   \n",
    "\n",
    "# X = dataset[:, :-1]\n",
    "# y = dataset[:,-1]\n",
    "# y = y.reshape(y.shape[0],1)"
   ]
  },
  {
   "cell_type": "code",
   "execution_count": 5,
   "id": "2abcd64c",
   "metadata": {},
   "outputs": [],
   "source": [
    "# # Data Set 4\n",
    "# from sklearn.datasets import make_moons\n",
    "# X, y = make_moons(n_samples=1000, noise=0.05, random_state=0)\n",
    "# plt.scatter(X[:,0], X[:,1], c = y, cmap = \"brg\")\n",
    "# plt.show()\n",
    "# #plot_data(X, y)"
   ]
  },
  {
   "cell_type": "code",
   "execution_count": 6,
   "id": "2b2a509d",
   "metadata": {},
   "outputs": [],
   "source": [
    "# # Data Set 5\n",
    "# from sklearn.datasets import make_circles\n",
    "# X, y = make_circles(n_samples=1000, noise=0.05, factor=0.3, random_state=0)\n",
    "# plt.scatter(X[:,0], X[:,1], c = y, cmap = \"brg\")\n",
    "# plt.show()"
   ]
  },
  {
   "cell_type": "code",
   "execution_count": 7,
   "id": "bae99cf4",
   "metadata": {},
   "outputs": [],
   "source": [
    "# data set 6\n",
    "dataset = np.loadtxt(r'C:\\Users\\msi 1\\Downloads\\datas.csv', delimiter=',',skiprows = 1)\n",
    "#print(dataset.shape)  \n",
    "\n",
    "X = dataset[:, :-1]\n",
    "y = dataset[:,-1]\n",
    "X_train, X_test, y_train, y_test = train_test_split(X, y, random_state=1, test_size = 0.2, shuffle=True, stratify = y)\n",
    "X = X.T\n",
    "X_train = X_train.T\n",
    "X_test = X_test.T\n",
    "y = y.reshape(1,y.shape[0])\n",
    "y_train = y_train.reshape(1,y_train.shape[0])\n",
    "y_test = y_test.reshape(1,y_test.shape[0])"
   ]
  },
  {
   "cell_type": "code",
   "execution_count": null,
   "id": "76680f33",
   "metadata": {},
   "outputs": [],
   "source": []
  },
  {
   "cell_type": "code",
   "execution_count": null,
   "id": "b2a901d8",
   "metadata": {},
   "outputs": [],
   "source": []
  },
  {
   "cell_type": "code",
   "execution_count": null,
   "id": "b3445e8f",
   "metadata": {},
   "outputs": [],
   "source": []
  },
  {
   "cell_type": "code",
   "execution_count": 8,
   "id": "cc53af4f",
   "metadata": {},
   "outputs": [],
   "source": [
    "import sklearn\n",
    "import sklearn.datasets\n",
    "import sklearn.linear_model\n",
    "\n",
    "# # train the logistic regression classifier\n",
    "# data = sklearn.linear_model.LogisticRegressionCV()\n",
    "# data.fit(X.T, y.T)\n",
    "\n",
    "# plot_decision_boundary(lambda x:data.predict(x), X, y)\n"
   ]
  },
  {
   "cell_type": "markdown",
   "id": "63ef6b4b",
   "metadata": {},
   "source": [
    "## Define neural network structure"
   ]
  },
  {
   "cell_type": "code",
   "execution_count": 9,
   "id": "9cda1ed5",
   "metadata": {},
   "outputs": [],
   "source": [
    "def layer_size(X,y):\n",
    "    n0 = X.shape[0]  # n_x of features\n",
    "    n2 = y.shape[0]  # n_y is not output node\n",
    "    return (n0, n2)"
   ]
  },
  {
   "cell_type": "markdown",
   "id": "b0fb48e2",
   "metadata": {},
   "source": [
    "## Initializing all the parameters of layer 1 and layer 2"
   ]
  },
  {
   "cell_type": "code",
   "execution_count": 10,
   "id": "f11b91b0",
   "metadata": {},
   "outputs": [],
   "source": [
    "def initalization_parameters(n0, n1, n2): #  n_0, n_1 and n_2 are no of features or neuron in layer 0, 1,and 2 recp. \n",
    "    W1 = np.random.rand(n1,n0) * 0.01\n",
    "    b1 = np.random.rand(n1,1)\n",
    "    W2 = np.random.rand(n2,n1) * 0.01\n",
    "    b2 = np.random.rand(n2,1)\n",
    "    \n",
    "    parameters = {\n",
    "        \"W1\" : W1,\n",
    "        \"b1\" : b1,\n",
    "        \"W2\" : W2,\n",
    "        \"b2\" : b2,\n",
    "    }\n",
    "    \n",
    "    return parameters"
   ]
  },
  {
   "cell_type": "markdown",
   "id": "aea77d87",
   "metadata": {},
   "source": [
    "## Forward calculation"
   ]
  },
  {
   "cell_type": "code",
   "execution_count": 11,
   "id": "9ccd18c7",
   "metadata": {},
   "outputs": [],
   "source": [
    "def forward_propogation(X, parameters):\n",
    "    W1 = parameters[\"W1\"]\n",
    "    b1 = parameters[\"b1\"]\n",
    "    W2 = parameters[\"W2\"]\n",
    "    b2 = parameters[\"b2\"]\n",
    "\n",
    "    # layer 1 calculation\n",
    "    Z1 = np.dot(W1,X) + b1  # size(w_1) = (n_1,n_0), size(X) = (n_0,m), size(b_1) = (n_1,1) where m = no of examples\n",
    "    A1 = np.tanh(Z1)  # Activation function for layer 1\n",
    "\n",
    "    # layer 2 calculation\n",
    "    Z2 = np.dot(W2,A1) + b2  # size(w_2) = (n_2,n_1), size(A_1) = (n_1,m), size(b_1) = (n_2,1) where m = no of examples\n",
    "    A2 = 1 / (1 + np.exp(-Z2))  # Activation function for layer 2, size(A_2) = (n_2,m)\n",
    "       \n",
    "    result = {\n",
    "        \"Z1\" : Z1,\n",
    "        \"A1\" : A1,\n",
    "        \"Z2\" : Z2,\n",
    "        \"A2\" : A2,\n",
    "    }\n",
    "\n",
    "    return A2, result"
   ]
  },
  {
   "cell_type": "markdown",
   "id": "531c52e0",
   "metadata": {},
   "source": [
    "## Compute cost"
   ]
  },
  {
   "cell_type": "code",
   "execution_count": 12,
   "id": "645000a4",
   "metadata": {},
   "outputs": [],
   "source": [
    "def total_cost(A2, y): # output of layer2 by sigmoid function, y - true label\n",
    "    m = y.shape[1]\n",
    "    \n",
    "    logprobs = np.multiply(np.log(A2), y) + np.multiply((1-y), np.log(1-A2))\n",
    "    cost = - np.sum(logprobs) / m\n",
    "    cost = float(np.squeeze(cost))\n",
    "    \n",
    "    return cost"
   ]
  },
  {
   "cell_type": "markdown",
   "id": "7e9afc87",
   "metadata": {},
   "source": [
    "## Backword Propogation"
   ]
  },
  {
   "cell_type": "code",
   "execution_count": 13,
   "id": "924f0cd7",
   "metadata": {},
   "outputs": [],
   "source": [
    "def backword_propogation(parameters, result, X, y):\n",
    "    \n",
    "    m = y.shape[1]\n",
    "    \n",
    "    W1 = parameters[\"W1\"]\n",
    "    b1 = parameters[\"b1\"]\n",
    "    W2 = parameters[\"W2\"]\n",
    "    b2 = parameters[\"b2\"]\n",
    "    \n",
    "    Z1 = result[\"Z1\"]\n",
    "    A1 = result[\"A1\"]\n",
    "    Z2 = result[\"Z2\"]\n",
    "    A2 = result[\"A2\"]\n",
    "    \n",
    "    dZ2 = A2 - y  # where y = actual output,  size(dZ_2) = (n_2,m) \n",
    "    dW2 = (1/m) * np.dot(dZ2,A1.T)   # size(dW_2) = (n_2,n_1)\n",
    "    db2 = (1/m) * np.sum(dZ2, axis =1, keepdims = True)  # size(dB_2) = (n_2,1)\n",
    "    dZ1 = np.dot(W2.T,dZ2) * (1 - np.power(A1, 2))   # np.vectorize(np.tanh)(Z1)\n",
    "    dW1 = (1/m) * np.dot(dZ1,X.T)\n",
    "    db1 = (1/m) * np.sum(dZ1, axis =1, keepdims = True)\n",
    "    \n",
    "    gradient = {\n",
    "        \"dW1\" : dW1,\n",
    "        \"db1\" : db1,\n",
    "        \"dW2\" : dW2,\n",
    "        \"db2\" : db2,\n",
    "    }\n",
    "    \n",
    "    return gradient "
   ]
  },
  {
   "cell_type": "markdown",
   "id": "a19d4ab8",
   "metadata": {},
   "source": [
    "## Update parameters"
   ]
  },
  {
   "cell_type": "code",
   "execution_count": 14,
   "id": "7ff76c9c",
   "metadata": {},
   "outputs": [],
   "source": [
    "def update_parameters(parameters, gradient, learning_rate):\n",
    "    W1 = parameters[\"W1\"]\n",
    "    b1 = parameters[\"b1\"]\n",
    "    W2 = parameters[\"W2\"]\n",
    "    b2 = parameters[\"b2\"]\n",
    "    \n",
    "    dW1 = gradient[\"dW1\"]\n",
    "    db1 = gradient[\"db1\"]\n",
    "    dW2 = gradient[\"dW2\"]\n",
    "    db2 = gradient[\"db2\"]\n",
    "    \n",
    "    W1 -= learning_rate * dW1\n",
    "    b1 -= learning_rate * db1 \n",
    "    W2 -= learning_rate * dW2\n",
    "    b2 -= learning_rate * db2\n",
    "    \n",
    "    parameters = {\n",
    "        \"W1\" : W1,\n",
    "        \"b1\" : b1,\n",
    "        \"W2\" : W2,\n",
    "        \"b2\" : b2,\n",
    "    }      \n",
    "    \n",
    "    return parameters"
   ]
  },
  {
   "cell_type": "markdown",
   "id": "dc942ecf",
   "metadata": {},
   "source": [
    "## Neural network code with one hidden layer \n",
    "#### Where n1 = no of nodes in that hidden layer"
   ]
  },
  {
   "cell_type": "code",
   "execution_count": 15,
   "id": "bae1eca0",
   "metadata": {},
   "outputs": [],
   "source": [
    "def nn_1_model(X, y, n1, n_iteration, learning_rate, print_cost):\n",
    "    # Structue the model\n",
    "    n0, n2 = layer_size(X,y)\n",
    "    \n",
    "    costs = []  # store the cost per iteration\n",
    "    # Initialize the parameters\n",
    "    parameters = initalization_parameters(n0, n1, n2)\n",
    "    \n",
    "    for i in range(n_iteration):\n",
    "        # Forward propogation\n",
    "        A2, result = forward_propogation(X, parameters)\n",
    "\n",
    "        # Calculate loss or the total cost\n",
    "        cost  = total_cost(A2, y)\n",
    "\n",
    "        # Backword propogation or calculate the gradient\n",
    "        gradient = backword_propogation(parameters, result, X, y)\n",
    "\n",
    "        # Update the parameters\n",
    "        parameters = update_parameters(parameters, gradient, learning_rate)\n",
    "        \n",
    "        # print the cost every 1000 iteration\n",
    "        if print_cost and i % 100 == 0:\n",
    "            #print(\"Cost after iteration %i: %f\" %(i, cost))\n",
    "            costs.append(cost)\n",
    "            \n",
    "    #plot the cost\n",
    "    plt.plot(np.squeeze(costs))\n",
    "    plt.ylabel(\"Cost\")\n",
    "    plt.xlabel(\"Iteration\")\n",
    "    plt.title(\"Learning rate =\" + str(learning_rate))\n",
    "    plt.show()\n",
    "            \n",
    "    return parameters    "
   ]
  },
  {
   "cell_type": "code",
   "execution_count": 16,
   "id": "c68d8e4e",
   "metadata": {},
   "outputs": [
    {
     "data": {
      "image/png": "[encoded data removed]",
      "text/plain": [
       "<Figure size 640x480 with 1 Axes>"
      ]
     },
     "metadata": {},
     "output_type": "display_data"
    }
   ],
   "source": [
    "parameters = nn_1_model(X_train, y_train, n1 = 30, n_iteration = 10000, learning_rate = 0.01, print_cost = True)"
   ]
  },
  {
   "cell_type": "markdown",
   "id": "53125e3a",
   "metadata": {},
   "source": [
    "## Prediction"
   ]
  },
  {
   "cell_type": "code",
   "execution_count": 17,
   "id": "2f5108da",
   "metadata": {},
   "outputs": [],
   "source": [
    "def predict(parameters,X):\n",
    "    A2, result = forward_propogation(X, parameters)\n",
    "    predictions = A2 > 0.5\n",
    "    return predictions*1"
   ]
  },
  {
   "cell_type": "code",
   "execution_count": 18,
   "id": "eaba5a91",
   "metadata": {},
   "outputs": [
    {
     "name": "stdout",
     "output_type": "stream",
     "text": [
      "[[0. 1. 0. ... 0. 0. 1.]]\n",
      "[[0 0 0 ... 0 0 0]]\n",
      "[0. 1. 0. ... 0. 0. 1.]\n",
      "[0 0 0 ... 0 0 0]\n"
     ]
    },
    {
     "data": {
      "image/png": "[encoded data removed]",
      "text/plain": [
       "<Figure size 640x480 with 2 Axes>"
      ]
     },
     "metadata": {},
     "output_type": "display_data"
    }
   ],
   "source": [
    "Y_P_train = predict(parameters, X_train)\n",
    "print(y_train)\n",
    "print(Y_P_train)\n",
    "y1_train = y_train.flatten()\n",
    "y1_p_train = Y_P_train.flatten()\n",
    "print(y1_train)\n",
    "print(y1_p_train)\n",
    "confusion_matrix = metrics.confusion_matrix(y1_train, y1_p_train)\n",
    "cm_display = metrics.ConfusionMatrixDisplay(confusion_matrix = confusion_matrix, display_labels = [False, True])\n",
    "cm_display.plot()\n",
    "plt.show()"
   ]
  },
  {
   "cell_type": "code",
   "execution_count": 19,
   "id": "6c90d88f",
   "metadata": {},
   "outputs": [
    {
     "name": "stdout",
     "output_type": "stream",
     "text": [
      "[[0. 0. 0. ... 0. 0. 0.]]\n",
      "[[0 0 0 ... 0 0 0]]\n",
      "[0. 0. 0. ... 0. 0. 0.]\n",
      "[0 0 0 ... 0 0 0]\n"
     ]
    },
    {
     "data": {
      "image/png": "[encoded data removed]",
      "text/plain": [
       "<Figure size 640x480 with 2 Axes>"
      ]
     },
     "metadata": {},
     "output_type": "display_data"
    }
   ],
   "source": [
    "Y_P_test = predict(parameters, X_test)\n",
    "print(y_test)\n",
    "print(Y_P_test)\n",
    "y1_test = y_test.flatten()\n",
    "y1_p_test = Y_P_test.flatten()\n",
    "print(y1_test)\n",
    "print(y1_p_test)\n",
    "confusion_matrix = metrics.confusion_matrix(y1_test, y1_p_test)\n",
    "cm_display = metrics.ConfusionMatrixDisplay(confusion_matrix = confusion_matrix, display_labels = [False, True])\n",
    "cm_display.plot()\n",
    "plt.show()"
   ]
  },
  {
   "cell_type": "markdown",
   "id": "ab3e894b",
   "metadata": {},
   "source": [
    "## Tuning Hidden Layers"
   ]
  },
  {
   "cell_type": "code",
   "execution_count": 20,
   "id": "507b44a5",
   "metadata": {},
   "outputs": [],
   "source": [
    "#hidden_layer_sizes = [1, 2, 3, 4, 5, 20, 50]\n",
    "\n",
    "# for i, n1 in enumerate(hidden_layer_sizes):\n",
    "#     plt.figure(figsize = (16, 32))\n",
    "#     plt.subplot(5, 2, i+1)\n",
    "#     plt.title(\"Hidden Layer of size %d\" % n1)\n",
    "#     parameters = nn_1_model(X, y, n1, n_iteration = 50000, learning_rate = 0.1, print_cost = True)\n",
    "#     plot_decision_boundary(lambda x : predict(parameters, x.T), X, y)\n",
    "#     predictions = predict(parameters, X)\n",
    "#     accuracy = float((np.dot(y, predictions.T) + np.dot(1-y, 1-predictions.T))/float(y.size)*100)\n",
    "#     print(\"Accuracy for {} hidden units: {} %\".format(n1, accuracy))\n",
    "    "
   ]
  },
  {
   "cell_type": "code",
   "execution_count": null,
   "id": "8192feee",
   "metadata": {},
   "outputs": [],
   "source": []
  }
 ],
 "metadata": {
  "kernelspec": {
   "display_name": "Python 3 (ipykernel)",
   "language": "python",
   "name": "python3"
  },
  "language_info": {
   "codemirror_mode": {
    "name": "ipython",
    "version": 3
   },
   "file_extension": ".py",
   "mimetype": "text/x-python",
   "name": "python",
   "nbconvert_exporter": "python",
   "pygments_lexer": "ipython3",
   "version": "3.10.9"
  }
 },
 "nbformat": 4,
 "nbformat_minor": 5
}
